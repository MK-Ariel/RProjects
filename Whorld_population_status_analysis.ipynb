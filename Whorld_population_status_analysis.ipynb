{
 "cells": [
  {
   "cell_type": "code",
   "execution_count": 1,
   "id": "85a23be1",
   "metadata": {},
   "outputs": [
    {
     "data": {
      "text/html": [
       "'C:/Users/karel'"
      ],
      "text/latex": [
       "'C:/Users/karel'"
      ],
      "text/markdown": [
       "'C:/Users/karel'"
      ],
      "text/plain": [
       "[1] \"C:/Users/karel\""
      ]
     },
     "metadata": {},
     "output_type": "display_data"
    }
   ],
   "source": [
    "getwd()"
   ]
  },
  {
   "cell_type": "code",
   "execution_count": 2,
   "id": "d4d8bc7a",
   "metadata": {},
   "outputs": [],
   "source": [
    "setwd(\"C:/Users/karel/OneDrive/Documents/Meine Unterlagen/Skool/Meine_Vorhaben/R/data_set\")"
   ]
  },
  {
   "cell_type": "code",
   "execution_count": 3,
   "id": "7217363e",
   "metadata": {},
   "outputs": [],
   "source": [
    " wh <- read.csv(\"worldHappinessReport.csv\")"
   ]
  },
  {
   "cell_type": "markdown",
   "id": "5b15abaa",
   "metadata": {},
   "source": [
    "We do a data cleaning"
   ]
  },
  {
   "cell_type": "code",
   "execution_count": 4,
   "id": "b8b98a82",
   "metadata": {},
   "outputs": [],
   "source": [
    "wh$Happiness = as.numeric(wh$Happiness)\n",
    "wh$GDP = as.numeric(wh$GDP)\n",
    "wh$SocialSupport = as.numeric(wh$SocialSupport)\n",
    "wh$Health = as.numeric(wh$Health)\n",
    "wh$Freedom = as.numeric(wh$Freedom)\n",
    "wh$Generosity = as.numeric(wh$Generosity)\n",
    "wh$Corruption = as.numeric(wh$Corruption)\n",
    "wh$PositiveAffect = as.numeric(wh$PositiveAffect)\n",
    "wh$NegativeAffect = as.numeric(wh$NegativeAffect)\n",
    "wh$ConfidenceInGovernment = as.numeric(wh$ConfidenceInGovernment)"
   ]
  },
  {
   "cell_type": "code",
   "execution_count": 5,
   "id": "073b350d",
   "metadata": {},
   "outputs": [
    {
     "data": {
      "text/plain": [
       "       X                Country      Happiness          GDP        \n",
       " Min.   :  1.0   Afghanistan:  1   Min.   :2.662   Min.   : 6.494  \n",
       " 1st Qu.: 37.5   Albania    :  1   1st Qu.:4.619   1st Qu.: 8.457  \n",
       " Median : 74.0   Algeria    :  1   Median :5.553   Median : 9.492  \n",
       " Mean   : 74.0   Argentina  :  1   Mean   :5.460   Mean   : 9.298  \n",
       " 3rd Qu.:110.5   Armenia    :  1   3rd Qu.:6.252   3rd Qu.:10.279  \n",
       " Max.   :147.0   Australia  :  1   Max.   :7.788   Max.   :11.454  \n",
       "                 (Other)    :141                   NA's   :4       \n",
       " SocialSupport        Health         Freedom         Generosity       \n",
       " Min.   :0.3196   Min.   :45.20   Min.   :0.4270   Min.   :-0.291227  \n",
       " 1st Qu.:0.7335   1st Qu.:58.70   1st Qu.:0.7130   1st Qu.:-0.136935  \n",
       " Median :0.8286   Median :66.00   Median :0.8125   Median :-0.030673  \n",
       " Mean   :0.8052   Mean   :64.19   Mean   :0.7806   Mean   :-0.007056  \n",
       " 3rd Qu.:0.9053   3rd Qu.:68.90   3rd Qu.:0.8841   3rd Qu.: 0.101768  \n",
       " Max.   :0.9668   Max.   :76.50   Max.   :0.9852   Max.   : 0.629577  \n",
       " NA's   :1        NA's   :2       NA's   :1        NA's   :5          \n",
       "   Corruption     PositiveAffect   NegativeAffect   ConfidenceInGovernment\n",
       " Min.   :0.1618   Min.   :0.4210   Min.   :0.1141   Min.   :0.1109        \n",
       " 1st Qu.:0.6730   1st Qu.:0.6148   1st Qu.:0.2244   1st Qu.:0.3422        \n",
       " Median :0.7821   Median :0.7207   Median :0.2790   Median :0.4817        \n",
       " Mean   :0.7292   Mean   :0.7050   Mean   :0.2912   Mean   :0.5022        \n",
       " 3rd Qu.:0.8521   3rd Qu.:0.7936   3rd Qu.:0.3483   3rd Qu.:0.6395        \n",
       " Max.   :0.9544   Max.   :0.9028   Max.   :0.5993   Max.   :0.9814        \n",
       " NA's   :11       NA's   :1        NA's   :1        NA's   :13            \n",
       "                             Region  \n",
       " Sub-Saharan Africa             :35  \n",
       " Central and Eastern Europe     :29  \n",
       " Latin America and Caribbean    :21  \n",
       " Western Europe                 :20  \n",
       " Middle East and Northern Africa:18  \n",
       " Southeastern Asia              : 8  \n",
       " (Other)                        :16  "
      ]
     },
     "metadata": {},
     "output_type": "display_data"
    }
   ],
   "source": [
    "summary(wh)"
   ]
  },
  {
   "cell_type": "code",
   "execution_count": 8,
   "id": "3eb8202c",
   "metadata": {},
   "outputs": [
    {
     "data": {
      "text/plain": [
       "   Min. 1st Qu.  Median    Mean 3rd Qu.    Max.    NA's \n",
       "  6.494   8.457   9.492   9.298  10.279  11.454       4 "
      ]
     },
     "metadata": {},
     "output_type": "display_data"
    }
   ],
   "source": [
    "summary(wh$GDP)"
   ]
  },
  {
   "cell_type": "code",
   "execution_count": 9,
   "id": "ff3bf15c",
   "metadata": {},
   "outputs": [
    {
     "data": {
      "image/png": "[encoded data removed]",
      "text/plain": [
       "Plot with title \"Histogram of wh$GDP\""
      ]
     },
     "metadata": {},
     "output_type": "display_data"
    }
   ],
   "source": [
    "hist(wh$GDP)"
   ]
  },
  {
   "cell_type": "markdown",
   "id": "8fa1a97b",
   "metadata": {},
   "source": [
    "\n",
    "Nous observons que nous avons très peut de pays ayant un GDP de 6 dollar se qui peut etre \n",
    "\n",
    "cosiderer comme une donnée aberrantes. \n",
    "\n",
    "\n",
    "D'après le diagram si déssus le variable GDP peut suivre une lois normal.\n",
    "\n",
    "Nous allons éffectuer un test de normalité pour vérifier notre hypothèse \n"
   ]
  },
  {
   "cell_type": "code",
   "execution_count": 10,
   "id": "fbbfcf6f",
   "metadata": {},
   "outputs": [
    {
     "data": {
      "text/plain": [
       "\n",
       "\tShapiro-Wilk normality test\n",
       "\n",
       "data:  wh$GDP\n",
       "W = 0.96199, p-value = 0.000539\n"
      ]
     },
     "metadata": {},
     "output_type": "display_data"
    }
   ],
   "source": [
    "shapiro.test(wh$GDP)"
   ]
  },
  {
   "cell_type": "markdown",
   "id": "837fbf47",
   "metadata": {},
   "source": [
    "Le test de normalié de Shapiro_Wilk que nous venons d'éfectuer nous montre que le \n",
    "\n",
    "p-value est inférieur 0,05 donc GDP ne suis pas la loi normal"
   ]
  },
  {
   "cell_type": "code",
   "execution_count": 11,
   "id": "dc4e8a2b",
   "metadata": {},
   "outputs": [
    {
     "data": {
      "text/html": [
       "<ol class=list-inline>\n",
       "\t<li>9.13210658812142</li>\n",
       "\t<li>9.46438763973477</li>\n",
       "</ol>\n"
      ],
      "text/latex": [
       "\\begin{enumerate*}\n",
       "\\item 9.13210658812142\n",
       "\\item 9.46438763973477\n",
       "\\end{enumerate*}\n"
      ],
      "text/markdown": [
       "1. 9.13210658812142\n",
       "2. 9.46438763973477\n",
       "\n",
       "\n"
      ],
      "text/plain": [
       "[1] 9.132107 9.464388\n",
       "attr(,\"conf.level\")\n",
       "[1] 0.9"
      ]
     },
     "metadata": {},
     "output_type": "display_data"
    }
   ],
   "source": [
    "t.test(wh$GDP,conf.level=0.9)$conf.int"
   ]
  },
  {
   "cell_type": "markdown",
   "id": "855476b4",
   "metadata": {},
   "source": [
    "Nous obtenons l’intervalle de confiance [9.132107 ; 9.464388] de niveau de\n",
    "confiance 0.9 pour la moyenne.\n",
    "Se qui signifie que nous avons 90% de change d'avoir une moyenne dans cette intervale"
   ]
  },
  {
   "cell_type": "code",
   "execution_count": 17,
   "id": "6ed8b545",
   "metadata": {},
   "outputs": [
    {
     "name": "stdout",
     "output_type": "stream",
     "text": [
      "\n",
      "  There is a binary version available but the source version is later:\n",
      "        binary source needs_compilation\n",
      "remotes  2.3.0  2.4.2             FALSE\n",
      "\n"
     ]
    },
    {
     "name": "stderr",
     "output_type": "stream",
     "text": [
      "installing the source package 'remotes'\n",
      "\n"
     ]
    }
   ],
   "source": [
    "library(dplyr)\n",
    "install.packages(\"remotes\") "
   ]
  },
  {
   "cell_type": "code",
   "execution_count": 18,
   "id": "aa0e2cfa",
   "metadata": {},
   "outputs": [
    {
     "ename": "ERROR",
     "evalue": "Error in slice_max(wh, GDP, n = 10): impossible de trouver la fonction \"slice_max\"\n",
     "output_type": "error",
     "traceback": [
      "Error in slice_max(wh, GDP, n = 10): impossible de trouver la fonction \"slice_max\"\nTraceback:\n"
     ]
    }
   ],
   "source": [
    "# Nous obtenons les 10 pays avec les plus grand GQD\n",
    "slice_max(wh, GDP, n=10)"
   ]
  },
  {
   "cell_type": "code",
   "execution_count": 19,
   "id": "e3e1cd88",
   "metadata": {},
   "outputs": [
    {
     "data": {
      "text/html": [
       "<table>\n",
       "<thead><tr><th scope=col>Region</th><th scope=col>mean(GDP, na.rm = TRUE)</th></tr></thead>\n",
       "<tbody>\n",
       "\t<tr><td>Australia and New Zealand      </td><td>10.600119                      </td></tr>\n",
       "\t<tr><td>Central and Eastern Europe     </td><td> 9.611540                      </td></tr>\n",
       "\t<tr><td>Eastern Asia                   </td><td>10.202102                      </td></tr>\n",
       "\t<tr><td>Latin America and Caribbean    </td><td> 9.305069                      </td></tr>\n",
       "\t<tr><td>Middle East and Northern Africa</td><td> 9.938445                      </td></tr>\n",
       "\t<tr><td>North America                  </td><td>10.796625                      </td></tr>\n",
       "\t<tr><td>Southeastern Asia              </td><td> 9.204281                      </td></tr>\n",
       "\t<tr><td>Southern Asia                  </td><td> 8.353837                      </td></tr>\n",
       "\t<tr><td>Sub-Saharan Africa             </td><td> 7.862872                      </td></tr>\n",
       "\t<tr><td>Western Europe                 </td><td>10.683490                      </td></tr>\n",
       "</tbody>\n",
       "</table>\n"
      ],
      "text/latex": [
       "\\begin{tabular}{r|ll}\n",
       " Region & mean(GDP, na.rm = TRUE)\\\\\n",
       "\\hline\n",
       "\t Australia and New Zealand       & 10.600119                      \\\\\n",
       "\t Central and Eastern Europe      &  9.611540                      \\\\\n",
       "\t Eastern Asia                    & 10.202102                      \\\\\n",
       "\t Latin America and Caribbean     &  9.305069                      \\\\\n",
       "\t Middle East and Northern Africa &  9.938445                      \\\\\n",
       "\t North America                   & 10.796625                      \\\\\n",
       "\t Southeastern Asia               &  9.204281                      \\\\\n",
       "\t Southern Asia                   &  8.353837                      \\\\\n",
       "\t Sub-Saharan Africa              &  7.862872                      \\\\\n",
       "\t Western Europe                  & 10.683490                      \\\\\n",
       "\\end{tabular}\n"
      ],
      "text/markdown": [
       "\n",
       "| Region | mean(GDP, na.rm = TRUE) |\n",
       "|---|---|\n",
       "| Australia and New Zealand       | 10.600119                       |\n",
       "| Central and Eastern Europe      |  9.611540                       |\n",
       "| Eastern Asia                    | 10.202102                       |\n",
       "| Latin America and Caribbean     |  9.305069                       |\n",
       "| Middle East and Northern Africa |  9.938445                       |\n",
       "| North America                   | 10.796625                       |\n",
       "| Southeastern Asia               |  9.204281                       |\n",
       "| Southern Asia                   |  8.353837                       |\n",
       "| Sub-Saharan Africa              |  7.862872                       |\n",
       "| Western Europe                  | 10.683490                       |\n",
       "\n"
      ],
      "text/plain": [
       "   Region                          mean(GDP, na.rm = TRUE)\n",
       "1  Australia and New Zealand       10.600119              \n",
       "2  Central and Eastern Europe       9.611540              \n",
       "3  Eastern Asia                    10.202102              \n",
       "4  Latin America and Caribbean      9.305069              \n",
       "5  Middle East and Northern Africa  9.938445              \n",
       "6  North America                   10.796625              \n",
       "7  Southeastern Asia                9.204281              \n",
       "8  Southern Asia                    8.353837              \n",
       "9  Sub-Saharan Africa               7.862872              \n",
       "10 Western Europe                  10.683490              "
      ]
     },
     "metadata": {},
     "output_type": "display_data"
    }
   ],
   "source": [
    "wh_m = wh%>%\n",
    "  group_by(Region)%>%\n",
    "  summarize(mean(GDP, na.rm=TRUE))\n",
    "wh_m"
   ]
  },
  {
   "cell_type": "code",
   "execution_count": 20,
   "id": "0499fdaf",
   "metadata": {},
   "outputs": [
    {
     "data": {
      "image/png": "[encoded data removed]",
      "text/plain": [
       "plot without title"
      ]
     },
     "metadata": {},
     "output_type": "display_data"
    }
   ],
   "source": [
    "barplot(c(by(data = wh$GDP, INDICES = wh$Region, FUN  = mean, na.rm = T)), col = rainbow(10),)"
   ]
  },
  {
   "cell_type": "code",
   "execution_count": 21,
   "id": "6983de4e",
   "metadata": {},
   "outputs": [
    {
     "data": {
      "image/png": "[encoded data removed]",
      "text/plain": [
       "plot without title"
      ]
     },
     "metadata": {},
     "output_type": "display_data"
    }
   ],
   "source": [
    "pie(c(by(data = wh$GDP, INDICES = wh$Region, FUN  = mean, na.rm = T)), col = rainbow(10),)"
   ]
  },
  {
   "cell_type": "markdown",
   "id": "1fe2c2a9",
   "metadata": {},
   "source": [
    "Nous constatons que la moyenne des GDP dans les differentes regions du mondes est diférent\n",
    "\n",
    "et qu'elle est particuierement faible e afrique sub-saharien avec une moyenne de 7.86 \n",
    "\n",
    "dollar et  une moyenne supérieur a 10 dollar en Amerique du north, en europe de l'ouest et \n",
    "Australie et Nouvelle zeland"
   ]
  },
  {
   "cell_type": "code",
   "execution_count": 22,
   "id": "64bcbe67",
   "metadata": {},
   "outputs": [
    {
     "data": {
      "text/plain": [
       "\n",
       "      Australia and New Zealand      Central and Eastern Europe \n",
       "                              2                              29 \n",
       "                   Eastern Asia     Latin America and Caribbean \n",
       "                              6                              21 \n",
       "Middle East and Northern Africa                   North America \n",
       "                             18                               2 \n",
       "              Southeastern Asia                   Southern Asia \n",
       "                              8                               6 \n",
       "             Sub-Saharan Africa                  Western Europe \n",
       "                             35                              20 "
      ]
     },
     "metadata": {},
     "output_type": "display_data"
    }
   ],
   "source": [
    "table(wh$Region)"
   ]
  },
  {
   "cell_type": "code",
   "execution_count": 23,
   "id": "2bef23db",
   "metadata": {},
   "outputs": [
    {
     "data": {
      "text/plain": [
       "\n",
       "      Australia and New Zealand      Central and Eastern Europe \n",
       "                     0.01360544                      0.19727891 \n",
       "                   Eastern Asia     Latin America and Caribbean \n",
       "                     0.04081633                      0.14285714 \n",
       "Middle East and Northern Africa                   North America \n",
       "                     0.12244898                      0.01360544 \n",
       "              Southeastern Asia                   Southern Asia \n",
       "                     0.05442177                      0.04081633 \n",
       "             Sub-Saharan Africa                  Western Europe \n",
       "                     0.23809524                      0.13605442 "
      ]
     },
     "metadata": {},
     "output_type": "display_data"
    }
   ],
   "source": [
    "prop.table(table(wh$Region))"
   ]
  },
  {
   "cell_type": "code",
   "execution_count": 24,
   "id": "66d55fbf",
   "metadata": {},
   "outputs": [
    {
     "data": {
      "image/png": "[encoded data removed]",
      "text/plain": [
       "plot without title"
      ]
     },
     "metadata": {},
     "output_type": "display_data"
    }
   ],
   "source": [
    "pie(table(wh$Region), col=rainbow(10))"
   ]
  },
  {
   "cell_type": "markdown",
   "id": "13b92644",
   "metadata": {},
   "source": [
    "Nous remarquon que l'armerique du nord et l'autralie et la nouvelle zelande sont très peu \n",
    "\n",
    "réprésenté, par contre l'afrique,l'europe sont assez bien réprésenté. Se graphique nous \n",
    "\n",
    "montre le nombre de pays impliqué dans se sondage\n"
   ]
  },
  {
   "cell_type": "code",
   "execution_count": 25,
   "id": "818001be",
   "metadata": {},
   "outputs": [
    {
     "data": {
      "text/plain": [
       "   Min. 1st Qu.  Median    Mean 3rd Qu.    Max.    NA's \n",
       " 0.4210  0.6148  0.7207  0.7050  0.7936  0.9028       1 "
      ]
     },
     "metadata": {},
     "output_type": "display_data"
    }
   ],
   "source": [
    "summary(wh$PositiveAffect, na.rm=TRUE)"
   ]
  },
  {
   "cell_type": "code",
   "execution_count": 26,
   "id": "8653349b",
   "metadata": {},
   "outputs": [
    {
     "data": {
      "image/png": "[encoded data removed]",
      "text/plain": [
       "Plot with title \"Histogram of wh$PositiveAffect\""
      ]
     },
     "metadata": {},
     "output_type": "display_data"
    }
   ],
   "source": [
    "hist(wh$PositiveAffect)"
   ]
  },
  {
   "cell_type": "code",
   "execution_count": 27,
   "id": "81a24254",
   "metadata": {},
   "outputs": [
    {
     "data": {
      "text/html": [],
      "text/latex": [],
      "text/markdown": [],
      "text/plain": [
       "numeric(0)"
      ]
     },
     "metadata": {},
     "output_type": "display_data"
    },
    {
     "data": {
      "image/png": "[encoded data removed]",
      "text/plain": [
       "plot without title"
      ]
     },
     "metadata": {},
     "output_type": "display_data"
    }
   ],
   "source": [
    "boxplot(wh$PositiveAffect)$out"
   ]
  },
  {
   "cell_type": "markdown",
   "id": "d58af8dd",
   "metadata": {},
   "source": [
    "Le boxplot et le histogral ci-dessus nous montre que le variable positive effetct n'a pas \n",
    "\n",
    "de données aberantes se qui nous indique qu'il n'y a pas de région ou de pays où la \n",
    "\n",
    "valeur de positive effect est très petite en comparaison aux autre pays. "
   ]
  },
  {
   "cell_type": "code",
   "execution_count": 28,
   "id": "cb4938a5",
   "metadata": {},
   "outputs": [
    {
     "data": {
      "text/plain": [
       "   Min. 1st Qu.  Median    Mean 3rd Qu.    Max.    NA's \n",
       " 0.1141  0.2244  0.2790  0.2912  0.3483  0.5993       1 "
      ]
     },
     "metadata": {},
     "output_type": "display_data"
    }
   ],
   "source": [
    "summary(wh$NegativeAffect)"
   ]
  },
  {
   "cell_type": "code",
   "execution_count": 29,
   "id": "19ab915b",
   "metadata": {},
   "outputs": [
    {
     "data": {
      "text/html": [
       "<ol class=list-inline>\n",
       "\t<li>0.599335491657257</li>\n",
       "\t<li>0.538245439529419</li>\n",
       "\t<li>0.590538740158081</li>\n",
       "</ol>\n"
      ],
      "text/latex": [
       "\\begin{enumerate*}\n",
       "\\item 0.599335491657257\n",
       "\\item 0.538245439529419\n",
       "\\item 0.590538740158081\n",
       "\\end{enumerate*}\n"
      ],
      "text/markdown": [
       "1. 0.599335491657257\n",
       "2. 0.538245439529419\n",
       "3. 0.590538740158081\n",
       "\n",
       "\n"
      ],
      "text/plain": [
       "[1] 0.5993355 0.5382454 0.5905387"
      ]
     },
     "metadata": {},
     "output_type": "display_data"
    },
    {
     "data": {
      "image/png": "[encoded data removed]",
      "text/plain": [
       "plot without title"
      ]
     },
     "metadata": {},
     "output_type": "display_data"
    }
   ],
   "source": [
    "boxplot(wh$NegativeAffect)$out"
   ]
  },
  {
   "cell_type": "markdown",
   "id": "bf5ab53a",
   "metadata": {},
   "source": [
    "Nous avons trois valeur aberants qui sont  0.5993355, 0.5382454, 0.5905387\n",
    "\n",
    "Et nous pouvons verifier sa avec un histogram"
   ]
  },
  {
   "cell_type": "code",
   "execution_count": 30,
   "id": "f1955ec5",
   "metadata": {},
   "outputs": [
    {
     "data": {
      "image/png": "[encoded data removed]",
      "text/plain": [
       "Plot with title \"Histogram of wh$NegativeAffect\""
      ]
     },
     "metadata": {},
     "output_type": "display_data"
    }
   ],
   "source": [
    "hist(wh$NegativeAffect)"
   ]
  },
  {
   "cell_type": "code",
   "execution_count": 31,
   "id": "31fa7d0d",
   "metadata": {},
   "outputs": [
    {
     "data": {
      "image/png": "[encoded data removed]",
      "text/plain": [
       "plot without title"
      ]
     },
     "metadata": {},
     "output_type": "display_data"
    }
   ],
   "source": [
    "trg = table(wh$Country,wh$Region)\n",
    "barplot(trg, col = rainbow(10))"
   ]
  },
  {
   "cell_type": "code",
   "execution_count": 32,
   "id": "edf65cf1",
   "metadata": {},
   "outputs": [
    {
     "data": {
      "image/png": "[encoded data removed]",
      "text/plain": [
       "plot without title"
      ]
     },
     "metadata": {},
     "output_type": "display_data"
    }
   ],
   "source": [
    "pie(table(wh$Region), col = rainbow(10))"
   ]
  },
  {
   "cell_type": "markdown",
   "id": "2d3a27b1",
   "metadata": {},
   "source": [
    "Le diagram de bar est ci-dessus accompagner du diagram circulaie nous permet ne mieux \n",
    "\n",
    "comprendre la rélation entre les pays et ls régions. \n"
   ]
  },
  {
   "cell_type": "code",
   "execution_count": 33,
   "id": "7764ab85",
   "metadata": {},
   "outputs": [
    {
     "name": "stderr",
     "output_type": "stream",
     "text": [
      "Warning message in chisq.test(trg):\n",
      "\"Chi-squared approximation may be incorrect\""
     ]
    },
    {
     "data": {
      "text/plain": [
       "\n",
       "\tPearson's Chi-squared test\n",
       "\n",
       "data:  trg\n",
       "X-squared = 1323, df = 1314, p-value = 0.4254\n"
      ]
     },
     "metadata": {},
     "output_type": "display_data"
    }
   ],
   "source": [
    "chisq.test(trg)"
   ]
  },
  {
   "cell_type": "markdown",
   "id": "dc9480aa",
   "metadata": {},
   "source": [
    "Le p-value = 0.4254 > 0.05 se qui nous dit qu'il n'y a pas de lien entre les pays \n",
    "\n",
    "et les régions dans le context de cette étude. "
   ]
  },
  {
   "cell_type": "code",
   "execution_count": 36,
   "id": "9db7f709",
   "metadata": {},
   "outputs": [
    {
     "data": {
      "image/png": "[encoded data removed]",
      "text/plain": [
       "plot without title"
      ]
     },
     "metadata": {},
     "output_type": "display_data"
    }
   ],
   "source": [
    "\n",
    "plot(wh$GDP, wh$PositiveAffect,\n",
    "     xlab=\"PIB\",\n",
    "     ylab= \"Positive Effect\",\n",
    "     col = \"blue\" )"
   ]
  },
  {
   "cell_type": "markdown",
   "id": "00fc6d68",
   "metadata": {},
   "source": [
    "Nous observons une relations entre PIB et positive effect. Mais le nuage de points que \n",
    "\n",
    "nous avons ne nous permet pas de faait une conclusion quand la qualité de la rélation \n",
    "\n",
    "qu'ils ont Nous allons donc éffectuer un test de dépendence pour voir s'il y'a une lien \n",
    "\n",
    "entre ses deux variables\n"
   ]
  },
  {
   "cell_type": "code",
   "execution_count": 37,
   "id": "3ffefc0b",
   "metadata": {},
   "outputs": [
    {
     "data": {
      "text/plain": [
       "\n",
       "\tPearson's product-moment correlation\n",
       "\n",
       "data:  wh$GDP and wh$PositiveAffect\n",
       "t = 3.4125, df = 140, p-value = 0.0008419\n",
       "alternative hypothesis: true correlation is not equal to 0\n",
       "95 percent confidence interval:\n",
       " 0.1177614 0.4225517\n",
       "sample estimates:\n",
       "      cor \n",
       "0.2771131 \n"
      ]
     },
     "metadata": {},
     "output_type": "display_data"
    }
   ],
   "source": [
    "cor.test(wh$GDP, wh$PositiveAffect)"
   ]
  },
  {
   "cell_type": "markdown",
   "id": "babdd386",
   "metadata": {},
   "source": [
    "Après avoir éffectuer un test de corrélation , nous obtenons un valeur de 0.277 qui \n",
    "\n",
    "indique un faible rapport entre le bohneur des population et le PIB. \n",
    "\n",
    "\n",
    "Et nous pouvons déduire que la bonne hummeus des populations dans les differente \n",
    "\n",
    "régions ne dépand pas de leurs pouvoir d'achat"
   ]
  },
  {
   "cell_type": "code",
   "execution_count": 39,
   "id": "604c1bb7",
   "metadata": {},
   "outputs": [
    {
     "data": {
      "image/png": "[encoded data removed]",
      "text/plain": [
       "plot without title"
      ]
     },
     "metadata": {},
     "output_type": "display_data"
    }
   ],
   "source": [
    "plot(wh$Health, wh$Happiness,\n",
    "     xlab=\"santé\",\n",
    "     ylab= \"bohneur\",\n",
    "     col = \"blue\" )"
   ]
  },
  {
   "cell_type": "markdown",
   "id": "0a72412f",
   "metadata": {},
   "source": [
    "Nous constatons qu'il y'a une assez forte relation entre la santé des popultions dans les \n",
    "\n",
    "\n",
    "différentes région et leur bohneur. Nous allons éffetuer un test de correlation pour \n",
    "\n",
    "vérifier cette interpretation"
   ]
  },
  {
   "cell_type": "code",
   "execution_count": 41,
   "id": "09722972",
   "metadata": {},
   "outputs": [
    {
     "data": {
      "text/plain": [
       "\n",
       "\tPearson's product-moment correlation\n",
       "\n",
       "data:  wh$Health and wh$Happiness\n",
       "t = 13.918, df = 143, p-value < 2.2e-16\n",
       "alternative hypothesis: true correlation is not equal to 0\n",
       "95 percent confidence interval:\n",
       " 0.6795021 0.8201061\n",
       "sample estimates:\n",
       "      cor \n",
       "0.7584964 \n"
      ]
     },
     "metadata": {},
     "output_type": "display_data"
    }
   ],
   "source": [
    "cor.test(wh$Health, wh$Happiness)"
   ]
  },
  {
   "cell_type": "markdown",
   "id": "21ddd156",
   "metadata": {},
   "source": [
    "Se test de correlation nous donne une valeur de 0,758 se qui est assez proch de 1 et nous \n",
    "\n",
    "pouvons donc en déduire que le bohneur des populations dans les différentes région \n",
    "\n",
    "est fortement lié a leurs santé."
   ]
  },
  {
   "cell_type": "code",
   "execution_count": 43,
   "id": "433ecef4",
   "metadata": {},
   "outputs": [
    {
     "data": {
      "image/png": "[encoded data removed]",
      "text/plain": [
       "plot without title"
      ]
     },
     "metadata": {},
     "output_type": "display_data"
    }
   ],
   "source": [
    "boxplot(wh$Happiness~wh$Region)"
   ]
  },
  {
   "cell_type": "markdown",
   "id": "5d74be53",
   "metadata": {},
   "source": [
    "Le graphique nous montre une association entre les regions et le bonheur des habitants \n",
    "\n",
    "de ses regions. Nous allons confimer notre suposition avec un test de anova "
   ]
  },
  {
   "cell_type": "code",
   "execution_count": 44,
   "id": "2137382b",
   "metadata": {},
   "outputs": [
    {
     "data": {
      "text/html": [
       "<table>\n",
       "<thead><tr><th></th><th scope=col>Df</th><th scope=col>Sum Sq</th><th scope=col>Mean Sq</th><th scope=col>F value</th><th scope=col>Pr(&gt;F)</th></tr></thead>\n",
       "<tbody>\n",
       "\t<tr><th scope=row>wh$Region</th><td>  9         </td><td>110.26614   </td><td>12.2517931  </td><td>21.04562    </td><td>5.880809e-22</td></tr>\n",
       "\t<tr><th scope=row>Residuals</th><td>137         </td><td> 79.75509   </td><td> 0.5821539  </td><td>      NA    </td><td>          NA</td></tr>\n",
       "</tbody>\n",
       "</table>\n"
      ],
      "text/latex": [
       "\\begin{tabular}{r|lllll}\n",
       "  & Df & Sum Sq & Mean Sq & F value & Pr(>F)\\\\\n",
       "\\hline\n",
       "\twh\\$Region &   9          & 110.26614    & 12.2517931   & 21.04562     & 5.880809e-22\\\\\n",
       "\tResiduals & 137          &  79.75509    &  0.5821539   &       NA     &           NA\\\\\n",
       "\\end{tabular}\n"
      ],
      "text/markdown": [
       "\n",
       "| <!--/--> | Df | Sum Sq | Mean Sq | F value | Pr(>F) |\n",
       "|---|---|---|---|---|---|\n",
       "| wh$Region |   9          | 110.26614    | 12.2517931   | 21.04562     | 5.880809e-22 |\n",
       "| Residuals | 137          |  79.75509    |  0.5821539   |       NA     |           NA |\n",
       "\n"
      ],
      "text/plain": [
       "          Df  Sum Sq    Mean Sq    F value  Pr(>F)      \n",
       "wh$Region   9 110.26614 12.2517931 21.04562 5.880809e-22\n",
       "Residuals 137  79.75509  0.5821539       NA           NA"
      ]
     },
     "metadata": {},
     "output_type": "display_data"
    }
   ],
   "source": [
    "anova(aov(wh$Happiness~wh$Region))"
   ]
  },
  {
   "cell_type": "markdown",
   "id": "705c5098",
   "metadata": {},
   "source": [
    "Le test de Anova effcetuer si dessus nous montre qu'il y a une association entre les \n",
    "\n",
    "regions et le bonheur. Donc nous pouvons dire que le bohneur d'une personne dépend de \n",
    "\n",
    "là où cette personne vie."
   ]
  },
  {
   "cell_type": "markdown",
   "id": "5f4c44db",
   "metadata": {},
   "source": [
    "\n",
    "L'nalyse si dessus nous montre que hapinness est lié au regions. \n",
    "\n",
    "Nous avons aussi vu que happiness est fortement lié a la santé(health)\n",
    "\n",
    "\n",
    "Nous allons étudié les association entre health et social support, freedom, corruption, \n",
    "\n",
    "et confidence in government\n"
   ]
  },
  {
   "cell_type": "code",
   "execution_count": 47,
   "id": "8310a027",
   "metadata": {},
   "outputs": [
    {
     "data": {
      "image/png": "[encoded data removed]",
      "text/plain": [
       "plot without title"
      ]
     },
     "metadata": {},
     "output_type": "display_data"
    }
   ],
   "source": [
    "par(mfrow=c(2,2)) \n",
    "\n",
    "plot(wh$SocialSupport, wh$Happiness,\n",
    "     col = \"blue\" )\n",
    "\n",
    "plot(wh$Freedom, wh$Happiness,\n",
    "     col = \"red\" )\n",
    "\n",
    "plot(wh$Corruption, wh$Happiness,\n",
    "     col = \"green\" )\n",
    "\n",
    "plot(wh$Generosity, wh$Happiness,\n",
    "     col = \"orange\"  )"
   ]
  },
  {
   "cell_type": "markdown",
   "id": "896f7c59",
   "metadata": {},
   "source": [
    "En observant les graphiqes ci dessus nous observons qu'il peut avoir une relation entre \n",
    "\n",
    "hapiness et social support ainsi etre hapiness et freedom. \n",
    "\n",
    "La rélation entre happines et corruption et happiness et generosity n'est pas très claire.\n",
    "\n",
    "Nous allons verifier sa avec des test de correlation"
   ]
  },
  {
   "cell_type": "code",
   "execution_count": 48,
   "id": "a760743b",
   "metadata": {},
   "outputs": [
    {
     "data": {
      "text/plain": [
       "\n",
       "\tPearson's product-moment correlation\n",
       "\n",
       "data:  wh$Happiness and wh$SocialSupport\n",
       "t = 14.102, df = 144, p-value < 2.2e-16\n",
       "alternative hypothesis: true correlation is not equal to 0\n",
       "95 percent confidence interval:\n",
       " 0.6837208 0.8222967\n",
       "sample estimates:\n",
       "      cor \n",
       "0.7615809 \n"
      ]
     },
     "metadata": {},
     "output_type": "display_data"
    },
    {
     "data": {
      "text/plain": [
       "\n",
       "\tPearson's product-moment correlation\n",
       "\n",
       "data:  wh$Happiness and wh$Freedom\n",
       "t = 7.5959, df = 144, p-value = 3.55e-12\n",
       "alternative hypothesis: true correlation is not equal to 0\n",
       "95 percent confidence interval:\n",
       " 0.4078321 0.6415532\n",
       "sample estimates:\n",
       "      cor \n",
       "0.5348461 \n"
      ]
     },
     "metadata": {},
     "output_type": "display_data"
    },
    {
     "data": {
      "text/plain": [
       "\n",
       "\tPearson's product-moment correlation\n",
       "\n",
       "data:  wh$Happiness and wh$Generosity\n",
       "t = 2.1123, df = 140, p-value = 0.03643\n",
       "alternative hypothesis: true correlation is not equal to 0\n",
       "95 percent confidence interval:\n",
       " 0.01134814 0.33089466\n",
       "sample estimates:\n",
       "      cor \n",
       "0.1757469 \n"
      ]
     },
     "metadata": {},
     "output_type": "display_data"
    },
    {
     "data": {
      "text/plain": [
       "\n",
       "\tPearson's product-moment correlation\n",
       "\n",
       "data:  wh$Happiness and wh$Corruption\n",
       "t = -5.3764, df = 134, p-value = 3.278e-07\n",
       "alternative hypothesis: true correlation is not equal to 0\n",
       "95 percent confidence interval:\n",
       " -0.5505304 -0.2722026\n",
       "sample estimates:\n",
       "       cor \n",
       "-0.4212343 \n"
      ]
     },
     "metadata": {},
     "output_type": "display_data"
    }
   ],
   "source": [
    "cor.test(wh$Happiness,wh$SocialSupport)\n",
    "cor.test(wh$Happiness,wh$Freedom)\n",
    "cor.test(wh$Happiness,wh$Generosity)\n",
    "cor.test(wh$Happiness,wh$Corruption)"
   ]
  },
  {
   "cell_type": "markdown",
   "id": "7aae6970",
   "metadata": {},
   "source": [
    "Les test de correlation nous montre qu'il y a une forte correlation entre happiness et \n",
    "\n",
    "social support et suivi par la rélation entre hapiness et freedom. \n",
    "\n",
    "La rélation entre happiness et genersity est assez faible et celle entre \n",
    "\n",
    "happiness et corruption est negative. \n",
    "\n",
    "Nous pouvont conclure que plus les gens soont assister socialement et libre plus il se \n",
    "\n",
    "sente heureux. Par contre la genenorité n'a pas un impact fort sur le bohneur des gens. \n",
    "\n",
    "Nous remarquon aussi que la corruption a un impact negatives sur le bohneur des population\n",
    "\n",
    "raison pour laquelle on a eu une correlation negative."
   ]
  },
  {
   "cell_type": "code",
   "execution_count": 49,
   "id": "324bff7f",
   "metadata": {},
   "outputs": [
    {
     "data": {
      "image/png": "[encoded data removed]",
      "text/plain": [
       "plot without title"
      ]
     },
     "metadata": {},
     "output_type": "display_data"
    }
   ],
   "source": [
    "plot(wh$Happiness,wh$GDP)"
   ]
  },
  {
   "cell_type": "markdown",
   "id": "ef5c3f3f",
   "metadata": {},
   "source": [
    "\n",
    "Le graphique nous montre une relation entre happiness et GDP se qui nous montre qu'une\n",
    "\n",
    "regression linear peur etre une bonne idée dans cette situation "
   ]
  },
  {
   "cell_type": "code",
   "execution_count": 50,
   "id": "3f2c45a2",
   "metadata": {},
   "outputs": [
    {
     "data": {
      "text/plain": [
       "\n",
       "Call:\n",
       "lm(formula = wh$Happiness ~ wh$GDP, data = wh)\n",
       "\n",
       "Residuals:\n",
       "     Min       1Q   Median       3Q      Max \n",
       "-2.25313 -0.48670  0.02848  0.50024  1.49561 \n",
       "\n",
       "Coefficients:\n",
       "            Estimate Std. Error t value Pr(>|t|)    \n",
       "(Intercept) -1.14430    0.46942  -2.438    0.016 *  \n",
       "wh$GDP       0.71392    0.05007  14.258   <2e-16 ***\n",
       "---\n",
       "Signif. codes:  0 '***' 0.001 '**' 0.01 '*' 0.05 '.' 0.1 ' ' 1\n",
       "\n",
       "Residual standard error: 0.716 on 141 degrees of freedom\n",
       "  (4 observations deleted due to missingness)\n",
       "Multiple R-squared:  0.5905,\tAdjusted R-squared:  0.5875 \n",
       "F-statistic: 203.3 on 1 and 141 DF,  p-value: < 2.2e-16\n"
      ]
     },
     "metadata": {},
     "output_type": "display_data"
    }
   ],
   "source": [
    "rl = lm(wh$Happiness~wh$GDP, data=wh)\n",
    "summary(rl)"
   ]
  },
  {
   "cell_type": "markdown",
   "id": "5efe9234",
   "metadata": {},
   "source": [
    "L'équation de la droite est:\n",
    "\n",
    "Happiness = -1.14430 + 0.71392*GDP\n",
    "\n",
    "\n",
    "La valeur de R-square nous dit dit que le PIB peut prédire le bohneur des population\n",
    "\n",
    "avec une précision de 59%. Se qui nous montre un lien entre le PIB et le bohneur. \n",
    "\n",
    "Mais le p-value qui est plus petit que 0.05 nous montre que la valeur de le GDP\n",
    "\n",
    "ne prédit pas très bien le bohneur.\n",
    "Nous allons maintenant éffectuer une régression mutilple"
   ]
  },
  {
   "cell_type": "code",
   "execution_count": 51,
   "id": "91f6303f",
   "metadata": {},
   "outputs": [
    {
     "data": {
      "text/plain": [
       "\n",
       "Call:\n",
       "lm(formula = wh$Happiness ~ wh$Freedom + wh$SocialSupport + wh$Corruption + \n",
       "    wh$Generosity, data = wh)\n",
       "\n",
       "Residuals:\n",
       "    Min      1Q  Median      3Q     Max \n",
       "-1.8098 -0.3824  0.0400  0.4437  1.7140 \n",
       "\n",
       "Coefficients:\n",
       "                 Estimate Std. Error t value Pr(>|t|)    \n",
       "(Intercept)       0.40334    0.65683   0.614  0.54026    \n",
       "wh$Freedom        1.36432    0.56313   2.423  0.01680 *  \n",
       "wh$SocialSupport  6.02754    0.50963  11.827  < 2e-16 ***\n",
       "wh$Corruption    -1.15284    0.37273  -3.093  0.00243 ** \n",
       "wh$Generosity    -0.03457    0.40704  -0.085  0.93246    \n",
       "---\n",
       "Signif. codes:  0 '***' 0.001 '**' 0.01 '*' 0.05 '.' 0.1 ' ' 1\n",
       "\n",
       "Residual standard error: 0.6675 on 128 degrees of freedom\n",
       "  (14 observations deleted due to missingness)\n",
       "Multiple R-squared:  0.6622,\tAdjusted R-squared:  0.6516 \n",
       "F-statistic: 62.73 on 4 and 128 DF,  p-value: < 2.2e-16\n"
      ]
     },
     "metadata": {},
     "output_type": "display_data"
    }
   ],
   "source": [
    "mlr = lm(wh$Happiness~wh$Freedom+wh$SocialSupport+wh$Corruption+wh$Generosity, data = wh)\n",
    "summary(mlr)"
   ]
  },
  {
   "cell_type": "markdown",
   "id": "9af8b7bc",
   "metadata": {},
   "source": [
    "Le résultat de cette régréssion mutilple nous montre que les generosity, freedom, \n",
    "\n",
    "corruption et socialsupport mis ensemble predit hapinnes moin bien que generosity seul.\n",
    "\n",
    "Mais ses parametre mis ensemble on un meilleur R-square value que GDP seul.\n",
    "\n",
    "Nous pouvons alors en déduire que un des facteur les plus pertinent pour le bohneur \n",
    "\n",
    "des population c'est la générosité"
   ]
  },
  {
   "cell_type": "code",
   "execution_count": null,
   "id": "8df6703c",
   "metadata": {},
   "outputs": [],
   "source": []
  }
 ],
 "metadata": {
  "kernelspec": {
   "display_name": "R",
   "language": "R",
   "name": "ir"
  },
  "language_info": {
   "codemirror_mode": "r",
   "file_extension": ".r",
   "mimetype": "text/x-r-source",
   "name": "R",
   "pygments_lexer": "r",
   "version": "3.6.1"
  }
 },
 "nbformat": 4,
 "nbformat_minor": 5
}
