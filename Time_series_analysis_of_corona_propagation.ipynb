{
 "cells": [
  {
   "cell_type": "markdown",
   "id": "5a1190df",
   "metadata": {},
   "source": [
    "# A Time Series Analysis of the Spread of Corona Virus In France"
   ]
  },
  {
   "cell_type": "markdown",
   "id": "fa14ac96",
   "metadata": {},
   "source": [
    "Verifying the working directory"
   ]
  },
  {
   "cell_type": "code",
   "execution_count": 4,
   "id": "352b0bf2",
   "metadata": {},
   "outputs": [
    {
     "data": {
      "text/html": [
       "'C:/Users/karel/OneDrive/Documents/Meine Unterlagen/Skool/Meine_Vorhaben/R/data_set'"
      ],
      "text/latex": [
       "'C:/Users/karel/OneDrive/Documents/Meine Unterlagen/Skool/Meine\\_Vorhaben/R/data\\_set'"
      ],
      "text/markdown": [
       "'C:/Users/karel/OneDrive/Documents/Meine Unterlagen/Skool/Meine_Vorhaben/R/data_set'"
      ],
      "text/plain": [
       "[1] \"C:/Users/karel/OneDrive/Documents/Meine Unterlagen/Skool/Meine_Vorhaben/R/data_set\""
      ]
     },
     "metadata": {},
     "output_type": "display_data"
    }
   ],
   "source": [
    "getwd()"
   ]
  },
  {
   "cell_type": "markdown",
   "id": "9807ae88",
   "metadata": {},
   "source": [
    "I start the process by accessing my working directory"
   ]
  },
  {
   "cell_type": "code",
   "execution_count": 5,
   "id": "9a3a4821",
   "metadata": {},
   "outputs": [],
   "source": [
    "setwd(\"C:/Users/karel/OneDrive/Documents/Meine Unterlagen/Skool/Meine_Vorhaben/R/data_set\")"
   ]
  },
  {
   "cell_type": "code",
   "execution_count": 10,
   "id": "7c6221bf",
   "metadata": {},
   "outputs": [
    {
     "name": "stdout",
     "output_type": "stream",
     "text": [
      "\n",
      "  There is a binary version available but the source version is later:\n",
      "         binary source needs_compilation\n",
      "forecast   8.14   8.16              TRUE\n",
      "\n",
      "  Binaries will be installed\n"
     ]
    },
    {
     "name": "stderr",
     "output_type": "stream",
     "text": [
      "Warning message:\n",
      "\"package 'forecast' is in use and will not be installed\"Warning message:\n",
      "\"package 'stats' is not available (for R version 3.6.1)\"Warning message:\n",
      "\"package 'stats' is a base package, and should not be updated\""
     ]
    }
   ],
   "source": [
    "#importing the necessary package needed for this time series analysis\n",
    "install.packages(\"forecast\")\n",
    "install.packages(\"stats\")"
   ]
  },
  {
   "cell_type": "code",
   "execution_count": 12,
   "id": "9630817c",
   "metadata": {},
   "outputs": [],
   "source": [
    "library(forecast)\n",
    "library(stats)"
   ]
  },
  {
   "cell_type": "code",
   "execution_count": 13,
   "id": "b0aab6f0",
   "metadata": {},
   "outputs": [],
   "source": [
    "#Importing the data set\n",
    "d = read.csv2(\"open_stats_coronavirus.csv\", sep=\";\")"
   ]
  },
  {
   "cell_type": "code",
   "execution_count": 15,
   "id": "3c7c612a",
   "metadata": {},
   "outputs": [
    {
     "data": {
      "text/plain": [
       "         date             code                 nom             cas          \n",
       " 2020-03-24:   190   P11    :   693   La RÃ©union: 1060   Min.   :       0  \n",
       " 2020-03-25:   190   P2     :   690   Guadeloupe : 1047   1st Qu.:   16093  \n",
       " 2020-03-23:   189   P10    :   685   Guyane     : 1046   Median :  212111  \n",
       " 2020-03-22:   188   P4     :   685   Martinique : 1046   Mean   : 1677440  \n",
       " 2020-03-27:   188   P5     :   685   Mayotte    : 1043   3rd Qu.: 1142716  \n",
       " 2020-03-21:   187   P6     :   684   coree      :  693   Max.   :59767221  \n",
       " (Other)   :104102   (Other):101112   (Other)    :99299   NA's   :61037     \n",
       "     deces            guerisons       \n",
       " Min.   :     0.0   Min.   :       0  \n",
       " 1st Qu.:    90.0   1st Qu.:     475  \n",
       " Median :   441.5   Median :    1903  \n",
       " Mean   : 16559.6   Mean   :  255948  \n",
       " 3rd Qu.:  3191.0   3rd Qu.:   14989  \n",
       " Max.   :975886.0   Max.   :40070000  \n",
       " NA's   :1656       NA's   :13233     \n",
       "                                                        source     \n",
       " SantÃ© Publique France                                    :63383  \n",
       "                                                           :20179  \n",
       " https://www.worldometers.info/coronavirus/country/estonia/: 1359  \n",
       " Protezione Civile â\\200“ DonnÃ©es cumulÃ©es                  :  690  \n",
       " Ministerio de Sanidad                                     :  685  \n",
       " Robert Koch Institute                                     :  685  \n",
       " (Other)                                                   :18253  "
      ]
     },
     "metadata": {},
     "output_type": "display_data"
    }
   ],
   "source": [
    "# Getting a general idea about the data\n",
    "summary(d)"
   ]
  },
  {
   "cell_type": "markdown",
   "id": "1145a49b",
   "metadata": {},
   "source": [
    "##### Data Cleaning \n",
    "\n",
    "The date column is converted to a date format to be able to do a time series analysis "
   ]
  },
  {
   "cell_type": "code",
   "execution_count": 19,
   "id": "49f3330e",
   "metadata": {},
   "outputs": [
    {
     "data": {
      "text/plain": [
       "      date                 code                  nom             cas          \n",
       " Min.   :2020-02-25   P62    :  520   lettonie     :  520   Min.   :       1  \n",
       " 1st Qu.:2020-07-21   P16    :  513   estonie      :  513   1st Qu.:   15095  \n",
       " Median :2020-11-24   P61    :  513   japon        :  513   Median :  135821  \n",
       " Mean   :2020-11-23   P40    :  512   cote_d_ivoire:  512   Mean   : 1128108  \n",
       " 3rd Qu.:2021-03-28   P57    :  509   ukraine      :  509   3rd Qu.:  773079  \n",
       " Max.   :2021-09-01   P46    :  508   indonesie    :  508   Max.   :44933850  \n",
       "                      (Other):28332   (Other)      :28332                     \n",
       "     deces            guerisons       \n",
       " Min.   :     0.0   Min.   :       0  \n",
       " 1st Qu.:   227.5   1st Qu.:    5000  \n",
       " Median :  3061.0   Median :   57500  \n",
       " Mean   : 28182.8   Mean   :  743562  \n",
       " 3rd Qu.: 21718.0   3rd Qu.:  409084  \n",
       " Max.   :975886.0   Max.   :40070000  \n",
       "                                      \n",
       "                                                                                                       source     \n",
       "                                                                                                          :14611  \n",
       " SantÃ© Publique France                                                                                   : 1137  \n",
       " https://www.worldometers.info/coronavirus/country/estonia/                                               : 1033  \n",
       " https://covid19japan.com/                                                                                :  513  \n",
       " https://moz.gov.ua/article/news/operativna-informacija-pro-poshirennja-koronavirusnoi-infekcii-2019-ncov-:  509  \n",
       " https://covid19.go.id/                                                                                   :  508  \n",
       " (Other)                                                                                                  :13096  "
      ]
     },
     "metadata": {},
     "output_type": "display_data"
    },
    {
     "data": {
      "text/html": [
       "<ol class=list-inline>\n",
       "\t<li>31407</li>\n",
       "\t<li>7</li>\n",
       "</ol>\n"
      ],
      "text/latex": [
       "\\begin{enumerate*}\n",
       "\\item 31407\n",
       "\\item 7\n",
       "\\end{enumerate*}\n"
      ],
      "text/markdown": [
       "1. 31407\n",
       "2. 7\n",
       "\n",
       "\n"
      ],
      "text/plain": [
       "[1] 31407     7"
      ]
     },
     "metadata": {},
     "output_type": "display_data"
    }
   ],
   "source": [
    "# We do data cleaning\n",
    "\n",
    "d$date = as.Date(d$date)\n",
    "d$cas = as.numeric(d$cas)\n",
    "d$deces = as.numeric(d$deces)\n",
    "d$guerisons = as.numeric(d$guerisons)\n",
    "summary(d)"
   ]
  },
  {
   "cell_type": "code",
   "execution_count": 27,
   "id": "1dcd9aaa",
   "metadata": {},
   "outputs": [],
   "source": [
    "# In this siuation, we dicide to remove missing values because it will not affect the analysis\n",
    "d_clean = na.omit(d)"
   ]
  },
  {
   "cell_type": "code",
   "execution_count": 26,
   "id": "f33231d1",
   "metadata": {},
   "outputs": [
    {
     "data": {
      "text/plain": [
       "      date                 code                  nom             cas          \n",
       " Min.   :2020-02-25   P62    :  520   lettonie     :  520   Min.   :       1  \n",
       " 1st Qu.:2020-07-21   P16    :  513   estonie      :  513   1st Qu.:   15095  \n",
       " Median :2020-11-24   P61    :  513   japon        :  513   Median :  135821  \n",
       " Mean   :2020-11-23   P40    :  512   cote_d_ivoire:  512   Mean   : 1128108  \n",
       " 3rd Qu.:2021-03-28   P57    :  509   ukraine      :  509   3rd Qu.:  773079  \n",
       " Max.   :2021-09-01   P46    :  508   indonesie    :  508   Max.   :44933850  \n",
       "                      (Other):28332   (Other)      :28332                     \n",
       "     deces            guerisons       \n",
       " Min.   :     0.0   Min.   :       0  \n",
       " 1st Qu.:   227.5   1st Qu.:    5000  \n",
       " Median :  3061.0   Median :   57500  \n",
       " Mean   : 28182.8   Mean   :  743562  \n",
       " 3rd Qu.: 21718.0   3rd Qu.:  409084  \n",
       " Max.   :975886.0   Max.   :40070000  \n",
       "                                      \n",
       "                                                                                                       source     \n",
       "                                                                                                          :14611  \n",
       " SantÃ© Publique France                                                                                   : 1137  \n",
       " https://www.worldometers.info/coronavirus/country/estonia/                                               : 1033  \n",
       " https://covid19japan.com/                                                                                :  513  \n",
       " https://moz.gov.ua/article/news/operativna-informacija-pro-poshirennja-koronavirusnoi-infekcii-2019-ncov-:  509  \n",
       " https://covid19.go.id/                                                                                   :  508  \n",
       " (Other)                                                                                                  :13096  "
      ]
     },
     "metadata": {},
     "output_type": "display_data"
    }
   ],
   "source": [
    "summary(d_clean)"
   ]
  },
  {
   "cell_type": "markdown",
   "id": "45a177f1",
   "metadata": {},
   "source": [
    "In this work, we will focus our analysis on the corona cases(cas)"
   ]
  },
  {
   "cell_type": "code",
   "execution_count": 32,
   "id": "2c61e296",
   "metadata": {},
   "outputs": [
    {
     "data": {
      "image/png": "[encoded data removed]",
      "text/plain": [
       "Plot with title \"Histogram of d_clean$cas\""
      ]
     },
     "metadata": {},
     "output_type": "display_data"
    },
    {
     "data": {
      "image/png": "[encoded data removed]",
      "text/plain": [
       "plot without title"
      ]
     },
     "metadata": {},
     "output_type": "display_data"
    }
   ],
   "source": [
    "# plotting the data\n",
    "hist(d_clean$cas)\n",
    "boxplot(d_clean$cas)"
   ]
  },
  {
   "cell_type": "markdown",
   "id": "0f38272e",
   "metadata": {},
   "source": [
    "The diagrams display above show that the data is not evenly dispersed. Let's evaluate the proportion of dispersion to confirm that"
   ]
  },
  {
   "cell_type": "code",
   "execution_count": 31,
   "id": "4193d65a",
   "metadata": {},
   "outputs": [
    {
     "data": {
      "text/html": [
       "304.569532125558"
      ],
      "text/latex": [
       "304.569532125558"
      ],
      "text/markdown": [
       "304.569532125558"
      ],
      "text/plain": [
       "[1] 304.5695"
      ]
     },
     "metadata": {},
     "output_type": "display_data"
    }
   ],
   "source": [
    "# We eveluate the the proportio of dispersion and observed that the it's disperses at more than 300%. This can be due to the \n",
    "# fact that there are some period of the year during which we have more cases\n",
    "sd(d_clean$cas)/mean(d_clean$cas)*100"
   ]
  },
  {
   "cell_type": "code",
   "execution_count": 39,
   "id": "a173431c",
   "metadata": {},
   "outputs": [
    {
     "data": {
      "text/plain": [
       "    Min.  1st Qu.   Median     Mean  3rd Qu.     Max. \n",
       "     3.0    262.8    729.5  15882.3   1741.8 305275.0 "
      ]
     },
     "metadata": {},
     "output_type": "display_data"
    }
   ],
   "source": [
    "# We take a smaple of the data set to have a clear analysis\n",
    "\n",
    "d1=tail(d_clean,40*4)\n",
    "summary(da$cas)"
   ]
  },
  {
   "cell_type": "code",
   "execution_count": 44,
   "id": "830f62c5",
   "metadata": {},
   "outputs": [
    {
     "data": {
      "image/png": "[encoded data removed]",
      "text/plain": [
       "plot without title"
      ]
     },
     "metadata": {},
     "output_type": "display_data"
    }
   ],
   "source": [
    "# We transform the data in time series\n",
    "d1_s = ts(d1$cas, frequency = 12)\n",
    "plot(d1_s)"
   ]
  },
  {
   "cell_type": "code",
   "execution_count": 48,
   "id": "52622d0c",
   "metadata": {},
   "outputs": [
    {
     "data": {
      "image/png": "[encoded data removed]",
      "text/plain": [
       "Plot with title \"Forecasts from ETS(M,A,M)\""
      ]
     },
     "metadata": {},
     "output_type": "display_data"
    }
   ],
   "source": [
    "d1_ets = forecast(ets(d1_s), h=100)\n",
    "plot(d1_ets, col=\"red\",lwd=3)"
   ]
  },
  {
   "cell_type": "code",
   "execution_count": 46,
   "id": "373d1e4f",
   "metadata": {},
   "outputs": [
    {
     "data": {
      "image/png": "[encoded data removed]",
      "text/plain": [
       "plot without title"
      ]
     },
     "metadata": {},
     "output_type": "display_data"
    }
   ],
   "source": [
    "d_decom = decompose(d1_s)\n",
    "plot(d_decom,lwd=3)"
   ]
  },
  {
   "cell_type": "code",
   "execution_count": 47,
   "id": "215d936f",
   "metadata": {},
   "outputs": [
    {
     "data": {
      "image/png": "[encoded data removed]",
      "text/plain": [
       "Plot with title \"Forecasts from ARIMA(0,2,1)\""
      ]
     },
     "metadata": {},
     "output_type": "display_data"
    }
   ],
   "source": [
    "# We compare these result using the arima model\n",
    "d1_a = forecast(auto.arima(d1_s), h=100)\n",
    "plot(d1_a,col=\"green\",lwd=3)"
   ]
  },
  {
   "cell_type": "markdown",
   "id": "5d689bab",
   "metadata": {},
   "source": [
    "This shows us that the arima and ets model gives the same results"
   ]
  },
  {
   "cell_type": "markdown",
   "id": "1c5c1169",
   "metadata": {},
   "source": [
    "Analysing the number of cases in France"
   ]
  },
  {
   "cell_type": "code",
   "execution_count": 52,
   "id": "e22ab45f",
   "metadata": {},
   "outputs": [
    {
     "name": "stderr",
     "output_type": "stream",
     "text": [
      "\n",
      "Attaching package: 'dplyr'\n",
      "\n",
      "The following objects are masked from 'package:stats':\n",
      "\n",
      "    filter, lag\n",
      "\n",
      "The following objects are masked from 'package:base':\n",
      "\n",
      "    intersect, setdiff, setequal, union\n",
      "\n"
     ]
    }
   ],
   "source": [
    "library(dplyr)"
   ]
  },
  {
   "cell_type": "code",
   "execution_count": 55,
   "id": "3d33f471",
   "metadata": {},
   "outputs": [
    {
     "data": {
      "text/plain": [
       "      date                 code                 nom           cas         \n",
       " Min.   :2020-03-24   P1     :482   france        :482   Min.   :  22302  \n",
       " 1st Qu.:2020-08-05   COM-974:  0   afrique       :  0   1st Qu.: 195002  \n",
       " Median :2020-12-21   COM-977:  0   afrique_du_sud:  0   Median :2485048  \n",
       " Mean   :2020-12-13   COM-978:  0   Ain           :  0   Mean   :2734384  \n",
       " 3rd Qu.:2021-04-20   COM-986:  0   Aisne         :  0   3rd Qu.:5365787  \n",
       " Max.   :2021-09-01   COM-987:  0   algerie       :  0   Max.   :6783329  \n",
       "                      (Other):  0   (Other)       :  0                    \n",
       "     deces          guerisons     \n",
       " Min.   :  1100   Min.   :  3281  \n",
       " 1st Qu.: 30310   1st Qu.: 82554  \n",
       " Median : 61301   Median :185261  \n",
       " Mean   : 64021   Mean   :200547  \n",
       " 3rd Qu.:101810   3rd Qu.:325349  \n",
       " Max.   :114577   Max.   :408908  \n",
       "                                  \n",
       "                                              source   \n",
       " SantÃ© Publique France                          :482  \n",
       "                                                 :  0  \n",
       " ARS Ile de France et SantÃ© Publique France     :  0  \n",
       " CDC - Wikipedia                                 :  0  \n",
       " Commonwealth of Australia | Department of Health:  0  \n",
       " EC - Berliner Morgenpost                        :  0  \n",
       " (Other)                                         :  0  "
      ]
     },
     "metadata": {},
     "output_type": "display_data"
    }
   ],
   "source": [
    "d_france = d_clean%>%filter(nom ==\"france\")\n",
    "summary(d_france)"
   ]
  },
  {
   "cell_type": "code",
   "execution_count": 56,
   "id": "10c6658c",
   "metadata": {},
   "outputs": [
    {
     "data": {
      "image/png": "[encoded data removed]",
      "text/plain": [
       "Plot with title \"Histogram of d_france$cas\""
      ]
     },
     "metadata": {},
     "output_type": "display_data"
    }
   ],
   "source": [
    "hist(d_france$cas)"
   ]
  },
  {
   "cell_type": "code",
   "execution_count": 60,
   "id": "0882a8dc",
   "metadata": {},
   "outputs": [
    {
     "data": {
      "image/png": "[encoded data removed]",
      "text/plain": [
       "plot without title"
      ]
     },
     "metadata": {},
     "output_type": "display_data"
    }
   ],
   "source": [
    "# We transform the data in time series\n",
    "d_france_s = ts(d_france$cas, frequency = 12)\n",
    "plot(d_france_s)"
   ]
  },
  {
   "cell_type": "code",
   "execution_count": 61,
   "id": "420f4db1",
   "metadata": {},
   "outputs": [
    {
     "data": {
      "image/png": "[encoded data removed]",
      "text/plain": [
       "Plot with title \"Forecasts from ETS(M,A,N)\""
      ]
     },
     "metadata": {},
     "output_type": "display_data"
    }
   ],
   "source": [
    "d_france_ets = forecast(ets(d_france_s), h=100)\n",
    "plot(d_france_ets, col=\"red\",lwd=3)"
   ]
  },
  {
   "cell_type": "code",
   "execution_count": 62,
   "id": "40c4d3de",
   "metadata": {},
   "outputs": [
    {
     "data": {
      "image/png": "[encoded data removed]",
      "text/plain": [
       "plot without title"
      ]
     },
     "metadata": {},
     "output_type": "display_data"
    }
   ],
   "source": [
    "d_france_decom = decompose(d_france_s)\n",
    "plot(d_france_decom,lwd=3)"
   ]
  },
  {
   "cell_type": "code",
   "execution_count": 63,
   "id": "1606613d",
   "metadata": {},
   "outputs": [
    {
     "data": {
      "image/png": "[encoded data removed]",
      "text/plain": [
       "Plot with title \"Forecasts from ARIMA(0,2,1)\""
      ]
     },
     "metadata": {},
     "output_type": "display_data"
    }
   ],
   "source": [
    "# We compare these result using the arima model\n",
    "d_france_a = forecast(auto.arima(d_france_s), h=100)\n",
    "plot(d1_a,col=\"green\",lwd=3)"
   ]
  },
  {
   "cell_type": "markdown",
   "id": "6d00995a",
   "metadata": {},
   "source": [
    "We can see that What happened in France is a reflection of what we obained up with the world's population. \n",
    "Therefore one can say that there are period of the year when the number of cases increae exponentially. \n",
    "As shown by all the analysis shown above"
   ]
  },
  {
   "cell_type": "code",
   "execution_count": null,
   "id": "ff5b0e3c",
   "metadata": {},
   "outputs": [],
   "source": []
  }
 ],
 "metadata": {
  "kernelspec": {
   "display_name": "Python 3 (ipykernel)",
   "language": "python",
   "name": "python3"
  },
  "language_info": {
   "codemirror_mode": {
    "name": "ipython",
    "version": 3
   },
   "file_extension": ".py",
   "mimetype": "text/x-python",
   "name": "python",
   "nbconvert_exporter": "python",
   "pygments_lexer": "ipython3",
   "version": "3.8.8"
  }
 },
 "nbformat": 4,
 "nbformat_minor": 5
}
